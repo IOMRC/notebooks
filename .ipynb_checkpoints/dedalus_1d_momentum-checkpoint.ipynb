{
 "cells": [
  {
   "cell_type": "markdown",
   "metadata": {},
   "source": [
    "# Solve zero pressure gradient viscous 1D momentum problem\n",
    "\n",
    "$$\n",
    "\\frac{\\partial u}{\\partial t} + 0 - 0 - \\nu \\frac{\\partial^2 u}{\\partial z^2}  =0\n",
    "$$\n",
    "\n",
    "with boundary conditions\n",
    "\n",
    "$$\n",
    "u(z=H) = 1\n",
    "$$\n",
    "\n",
    "$$\n",
    "u(z=0) = 0\n",
    "$$"
   ]
  },
  {
   "cell_type": "code",
   "execution_count": null,
   "metadata": {},
   "outputs": [],
   "source": [
    "# Gotta find my FFTW_PATH\n",
    "!export FFTW_PATH=/path/to/your/fftw_prefix "
   ]
  },
  {
   "cell_type": "code",
   "execution_count": null,
   "metadata": {},
   "outputs": [],
   "source": []
  },
  {
   "cell_type": "code",
   "execution_count": 4,
   "metadata": {},
   "outputs": [
    {
     "name": "stdout",
     "output_type": "stream",
     "text": [
      "[sudo] password for suntans: \n"
     ]
    }
   ],
   "source": [
    "!sudo pip install dedalus"
   ]
  },
  {
   "cell_type": "code",
   "execution_count": 1,
   "metadata": {},
   "outputs": [
    {
     "name": "stderr",
     "output_type": "stream",
     "text": [
      "\n",
      "Bad key \"backend.qt5\" on line 8 in\n",
      "/home/suntans/.config/matplotlib/matplotlibrc.\n",
      "You probably need to get an updated matplotlibrc file from\n",
      "http://github.com/matplotlib/matplotlib/blob/master/matplotlibrc.template\n",
      "or from the matplotlib source distribution\n"
     ]
    }
   ],
   "source": [
    "import time\n",
    "import numpy as np\n",
    "import dedalus.public as de\n",
    "from dedalus.tools  import post\n",
    "\n",
    "from dedalus.extras.plot_tools import quad_mesh, pad_limits\n",
    "\n",
    "\n",
    "import logging\n",
    "import matplotlib.pyplot as plt\n",
    "logger = logging.getLogger(__name__)"
   ]
  },
  {
   "cell_type": "code",
   "execution_count": 22,
   "metadata": {},
   "outputs": [],
   "source": [
    "%matplotlib notebook\n",
    "\n"
   ]
  },
  {
   "cell_type": "code",
   "execution_count": 114,
   "metadata": {},
   "outputs": [],
   "source": [
    "# Constants\n",
    "\n",
    "H = 1. # Depth\n",
    "\n",
    "nz = 64\n",
    "nz = 200\n",
    "\n",
    "nu = 1e-2 \n",
    "\n",
    "u_top  =1\n",
    "u_bottom = 0\n",
    "\n",
    "k_ramp = -1/(2*np.pi)\n",
    "\n",
    "uniform_diffusion = True\n",
    "hot_start = True"
   ]
  },
  {
   "cell_type": "code",
   "execution_count": 115,
   "metadata": {},
   "outputs": [],
   "source": [
    "# CReate the domain\n",
    "\n",
    "z = de.Chebyshev('z',nz,interval=[0.,H])\n",
    "domain = de.Domain([z],grid_dtype='float')\n"
   ]
  },
  {
   "cell_type": "code",
   "execution_count": 116,
   "metadata": {},
   "outputs": [],
   "source": [
    "# Create the problem\n",
    "problem = de.IVP(domain, variables=['u', 'uz', 'uzz']) # u and viscous stress\n",
    "problem.parameters['nu'] = nu\n",
    "problem.parameters['u_top'] = u_top\n",
    "problem.parameters['u_bottom'] = u_bottom\n",
    "problem.parameters['k_ramp'] = k_ramp\n",
    "\n",
    "# if uniform_diffusion:\n",
    "#     problem.parameters['K'] = K_0\n",
    "# else:\n",
    "#     # Add vertically varying diffusion\n",
    "#     ncc = domain.new_field(name = 'K')\n",
    "#     ncc['g'] = (H-z)*K_0\n",
    "#     problem.parameters['K'] = ncc\n",
    "\n",
    "problem.add_equation('dt(u) - nu*uzz = 0')\n",
    "problem.add_equation('uzz - dz(uz) = 0')\n",
    "problem.add_equation('uz - dz(u) = 0')\n",
    "\n",
    "# Add the time varying boundary conditions\n",
    "if hot_start:\n",
    "    problem.add_bc('left(u) = u_top*sin(t)')\n",
    "    problem.add_bc('right(u) = u_bottom')\n",
    "else:    \n",
    "    problem.add_bc('left(u) = u_top*(1-exp(k_ramp*t))')\n",
    "    problem.add_bc('right(u) = u_bottom')\n",
    "\n",
    "# y = 1-exp(-t)\n"
   ]
  },
  {
   "cell_type": "code",
   "execution_count": 127,
   "metadata": {},
   "outputs": [
    {
     "name": "stdout",
     "output_type": "stream",
     "text": [
      "2019-11-06 13:07:27,502 pencil 0/1 INFO :: Building pencil matrix 1/1 (~100%) Elapsed: 0s, Remaining: 0s, Rate: 4.2e+01/s\n",
      "2019-11-06 13:07:27,655 __main__ 0/1 INFO :: Time step 20\n",
      "2019-11-06 13:07:27,797 __main__ 0/1 INFO :: Time step 40\n",
      "2019-11-06 13:07:27,896 __main__ 0/1 INFO :: Time step 60\n",
      "2019-11-06 13:07:28,000 __main__ 0/1 INFO :: Time step 80\n",
      "2019-11-06 13:07:28,105 __main__ 0/1 INFO :: Time step 100\n",
      "2019-11-06 13:07:28,207 __main__ 0/1 INFO :: Time step 120\n",
      "2019-11-06 13:07:28,314 __main__ 0/1 INFO :: Time step 140\n",
      "2019-11-06 13:07:28,420 __main__ 0/1 INFO :: Time step 160\n",
      "2019-11-06 13:07:28,507 __main__ 0/1 INFO :: Time step 180\n",
      "2019-11-06 13:07:28,625 __main__ 0/1 INFO :: Time step 200\n",
      "2019-11-06 13:07:28,730 __main__ 0/1 INFO :: Time step 220\n",
      "2019-11-06 13:07:28,859 __main__ 0/1 INFO :: Time step 240\n",
      "2019-11-06 13:07:28,955 __main__ 0/1 INFO :: Time step 260\n",
      "2019-11-06 13:07:29,063 __main__ 0/1 INFO :: Time step 280\n",
      "2019-11-06 13:07:29,178 __main__ 0/1 INFO :: Time step 300\n",
      "2019-11-06 13:07:29,315 __main__ 0/1 INFO :: Time step 320\n",
      "2019-11-06 13:07:29,488 __main__ 0/1 INFO :: Time step 340\n",
      "2019-11-06 13:07:29,665 __main__ 0/1 INFO :: Time step 360\n",
      "2019-11-06 13:07:29,843 __main__ 0/1 INFO :: Time step 380\n",
      "2019-11-06 13:07:30,032 __main__ 0/1 INFO :: Time step 400\n",
      "2019-11-06 13:07:30,183 __main__ 0/1 INFO :: Time step 420\n",
      "2019-11-06 13:07:30,318 __main__ 0/1 INFO :: Time step 440\n",
      "2019-11-06 13:07:30,400 __main__ 0/1 INFO :: Time step 460\n",
      "2019-11-06 13:07:30,523 __main__ 0/1 INFO :: Time step 480\n",
      "2019-11-06 13:07:30,624 __main__ 0/1 INFO :: Time step 500\n",
      "2019-11-06 13:07:30,746 __main__ 0/1 INFO :: Time step 520\n",
      "2019-11-06 13:07:30,857 __main__ 0/1 INFO :: Time step 540\n",
      "2019-11-06 13:07:30,968 __main__ 0/1 INFO :: Time step 560\n",
      "2019-11-06 13:07:31,078 __main__ 0/1 INFO :: Time step 580\n",
      "2019-11-06 13:07:31,183 __main__ 0/1 INFO :: Time step 600\n",
      "2019-11-06 13:07:31,289 __main__ 0/1 INFO :: Time step 620\n",
      "2019-11-06 13:07:31,379 __main__ 0/1 INFO :: Time step 640\n",
      "2019-11-06 13:07:31,482 __main__ 0/1 INFO :: Time step 660\n",
      "2019-11-06 13:07:31,628 __main__ 0/1 INFO :: Time step 680\n",
      "2019-11-06 13:07:31,802 __main__ 0/1 INFO :: Time step 700\n",
      "2019-11-06 13:07:31,976 __main__ 0/1 INFO :: Time step 720\n",
      "2019-11-06 13:07:32,116 __main__ 0/1 INFO :: Time step 740\n",
      "2019-11-06 13:07:32,288 __main__ 0/1 INFO :: Time step 760\n",
      "2019-11-06 13:07:32,452 __main__ 0/1 INFO :: Time step 780\n",
      "2019-11-06 13:07:32,596 __main__ 0/1 INFO :: Time step 800\n",
      "2019-11-06 13:07:32,694 __main__ 0/1 INFO :: Time step 820\n",
      "2019-11-06 13:07:32,798 __main__ 0/1 INFO :: Time step 840\n",
      "2019-11-06 13:07:32,899 __main__ 0/1 INFO :: Time step 860\n",
      "2019-11-06 13:07:32,990 __main__ 0/1 INFO :: Time step 880\n",
      "2019-11-06 13:07:33,113 __main__ 0/1 INFO :: Time step 900\n",
      "2019-11-06 13:07:33,226 __main__ 0/1 INFO :: Time step 920\n",
      "2019-11-06 13:07:33,320 __main__ 0/1 INFO :: Time step 940\n",
      "2019-11-06 13:07:33,422 __main__ 0/1 INFO :: Time step 960\n",
      "2019-11-06 13:07:33,527 __main__ 0/1 INFO :: Time step 980\n",
      "2019-11-06 13:07:33,661 __main__ 0/1 INFO :: Time step 1000\n",
      "2019-11-06 13:07:33,846 __main__ 0/1 INFO :: Time step 1020\n",
      "2019-11-06 13:07:33,998 __main__ 0/1 INFO :: Time step 1040\n",
      "2019-11-06 13:07:34,120 __main__ 0/1 INFO :: Time step 1060\n",
      "2019-11-06 13:07:34,214 __main__ 0/1 INFO :: Time step 1080\n",
      "2019-11-06 13:07:34,315 __main__ 0/1 INFO :: Time step 1100\n",
      "2019-11-06 13:07:34,421 __main__ 0/1 INFO :: Time step 1120\n",
      "2019-11-06 13:07:34,525 __main__ 0/1 INFO :: Time step 1140\n",
      "2019-11-06 13:07:34,553 solvers 0/1 INFO :: Simulation stop time reached.\n",
      "2019-11-06 13:07:34,560 __main__ 0/1 INFO :: Total time: 7.054631\n",
      "2019-11-06 13:07:34,562 __main__ 0/1 INFO :: Iterations: 1143\n",
      "2019-11-06 13:07:34,564 __main__ 0/1 INFO :: Average timestep: 0.011000\n"
     ]
    }
   ],
   "source": [
    "solver = problem.build_solver(de.timesteppers.RK443)\n",
    "\n",
    "solver.stop_sim_time = 4*np.pi\n",
    "solver.stop_wall_time = 1000.\n",
    "solver.stop_iteration = np.inf\n",
    "dt = 0.01\n",
    "\n",
    "# Store data for final plot\n",
    "# Initial conditions\n",
    "z = domain.grid(0)\n",
    "u = solver.state['u']\n",
    "\n",
    "u.set_scales(1, keep_data=True)\n",
    "u_list = [np.copy(u['g'])]\n",
    "t_list = [solver.sim_time]\n",
    "\n",
    "start_time = time.time()\n",
    "while solver.ok:\n",
    "    solver.step(dt)\n",
    "    if solver.iteration % 20 == 0:\n",
    "        logger.info(\"Time step {}\".format(solver.iteration))\n",
    "        u.set_scales(1, keep_data=True)\n",
    "        u_list.append(np.copy(u['g']))\n",
    "        t_list.append(solver.sim_time)\n",
    "        \n",
    "end_time = time.time()\n",
    "\n",
    "# Print statistics\n",
    "logger.info('Total time: %f' %(end_time-start_time))\n",
    "logger.info('Iterations: %i' %solver.iteration)\n",
    "logger.info('Average timestep: %f' %(solver.sim_time/solver.iteration))"
   ]
  },
  {
   "cell_type": "code",
   "execution_count": 128,
   "metadata": {},
   "outputs": [],
   "source": [
    "u_array = np.array(u_list)\n",
    "t_array = np.array(t_list)\n",
    "zmesh, tmesh = quad_mesh(x=z, y=t_array)"
   ]
  },
  {
   "cell_type": "code",
   "execution_count": 129,
   "metadata": {},
   "outputs": [
    {
     "data": {
      "image/png": "[encoded data removed]",
      "text/plain": [
       "<Figure size 432x288 with 2 Axes>"
      ]
     },
     "metadata": {
      "needs_background": "light"
     },
     "output_type": "display_data"
    }
   ],
   "source": [
    "plt.figure()\n",
    "plt.pcolormesh(tmesh.T, zmesh.T, u_array.T, cmap='RdBu_r')\n",
    "plt.axis(pad_limits(tmesh, zmesh))\n",
    "plt.colorbar()\n",
    "plt.ylabel('z')\n",
    "plt.xlabel('t')\n",
    "\n",
    "plt.show()"
   ]
  },
  {
   "cell_type": "code",
   "execution_count": 130,
   "metadata": {},
   "outputs": [
    {
     "data": {
      "text/plain": [
       "((58, 200), (200,), 58)"
      ]
     },
     "execution_count": 130,
     "metadata": {},
     "output_type": "execute_result"
    }
   ],
   "source": [
    "u_array.shape, z.shape, len(t_list)"
   ]
  },
  {
   "cell_type": "code",
   "execution_count": 156,
   "metadata": {},
   "outputs": [
    {
     "data": {
      "image/png": "[encoded data removed]",
      "text/plain": [
       "<Figure size 432x288 with 1 Axes>"
      ]
     },
     "metadata": {
      "needs_background": "light"
     },
     "output_type": "display_data"
    }
   ],
   "source": [
    "def get_ind(t_array, val):\n",
    "    \n",
    "    dt = np.abs(t_array-val)\n",
    "    return np.where(dt==np.min(dt))[0][0]\n",
    "\n",
    "delta = np.sqrt(2*nu) # assumes zero freq\n",
    "\n",
    "plt.figure()\n",
    "# plt.plot(u_array[0,:], z, 'k:')\n",
    "plt.plot(u_array[get_ind(t_array, 1.00*np.pi),:], z)\n",
    "plt.plot(u_array[get_ind(t_array, 1.25*np.pi),:], z)\n",
    "plt.plot(u_array[get_ind(t_array, 1.50*np.pi),:], z)\n",
    "plt.plot(u_array[get_ind(t_array, 1.75*np.pi),:], z)\n",
    "plt.plot(u_array[get_ind(t_array, 2.00*np.pi),:], z)\n",
    "plt.plot(u_array[get_ind(t_array, 2.25*np.pi),:], z)\n",
    "plt.plot(u_array[get_ind(t_array, 2.50*np.pi),:], z)\n",
    "plt.plot(u_array[get_ind(t_array, 2.75*np.pi),:], z)\n",
    "plt.plot(u_array[get_ind(t_array, 3.00*np.pi),:], z)\n",
    "# plt.plot(u_array[-1,:],z, 'k')\n",
    "\n",
    "plt.plot([-1, 1], [delta, delta], 'k--')\n",
    "plt.grid()"
   ]
  }
 ],
 "metadata": {
  "kernelspec": {
   "display_name": "Python 3",
   "language": "python",
   "name": "python3"
  },
  "language_info": {
   "codemirror_mode": {
    "name": "ipython",
    "version": 3
   },
   "file_extension": ".py",
   "mimetype": "text/x-python",
   "name": "python",
   "nbconvert_exporter": "python",
   "pygments_lexer": "ipython3",
   "version": "3.7.3"
  }
 },
 "nbformat": 4,
 "nbformat_minor": 2
}
