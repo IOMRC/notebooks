{
 "cells": [
  {
   "cell_type": "markdown",
   "metadata": {},
   "source": [
    "# Solve 1D advection diffusion problem\n",
    "\n",
    "$$\n",
    "\\frac{\\partial c}{\\partial t} + w_s \\frac{\\partial c}{\\partial z} - \\frac{\\partial}{\\partial z}\\left( F\\right) =0\n",
    "$$\n",
    "\n",
    "where\n",
    "\n",
    "$$\n",
    "F=K_v \\frac{\\partial c}{\\partial z}\n",
    "$$\n",
    "\n",
    "with boundary conditions\n",
    "\n",
    "$$\n",
    "F = f(t),\\ z =0\n",
    "$$\n",
    "\n",
    "$$\n",
    "F = 0,\\ z=H\n",
    "$$"
   ]
  },
  {
   "cell_type": "code",
   "execution_count": null,
   "metadata": {},
   "outputs": [],
   "source": [
    "# Gotta find my FFTW_PATH\n",
    "!export FFTW_PATH=/path/to/your/fftw_prefix "
   ]
  },
  {
   "cell_type": "code",
   "execution_count": null,
   "metadata": {},
   "outputs": [],
   "source": []
  },
  {
   "cell_type": "code",
   "execution_count": 4,
   "metadata": {},
   "outputs": [
    {
     "name": "stdout",
     "output_type": "stream",
     "text": [
      "[sudo] password for suntans: \n"
     ]
    }
   ],
   "source": [
    "!sudo pip install dedalus"
   ]
  },
  {
   "cell_type": "code",
   "execution_count": 4,
   "metadata": {},
   "outputs": [],
   "source": [
    "import time\n",
    "import numpy as np\n",
    "import dedalus.public as de\n",
    "from dedalus.tools  import post\n",
    "\n",
    "from dedalus.extras.plot_tools import quad_mesh, pad_limits\n",
    "\n",
    "\n",
    "import logging\n",
    "import matplotlib.pyplot as plt\n",
    "logger = logging.getLogger(__name__)"
   ]
  },
  {
   "cell_type": "code",
   "execution_count": 22,
   "metadata": {},
   "outputs": [],
   "source": [
    "%matplotlib notebook\n",
    "\n"
   ]
  },
  {
   "cell_type": "code",
   "execution_count": 79,
   "metadata": {},
   "outputs": [],
   "source": [
    "# Constants\n",
    "\n",
    "H = 5. # Depth\n",
    "\n",
    "nz = 64\n",
    "\n",
    "K_0 = 1e-1 # Diffusivity - had to boost this to actually get the sediment into the water column\n",
    "ws = 1e-3 # settling velocity\n",
    "\n",
    "E = -1e-3 # constant erosion rate [c/s]\n",
    "E = -1e-2 # constant erosion rate [c/s]\n",
    "\n",
    "uniform_diffusion = True"
   ]
  },
  {
   "cell_type": "code",
   "execution_count": 80,
   "metadata": {},
   "outputs": [],
   "source": [
    "# CReate the domain\n",
    "\n",
    "z = de.Chebyshev('z',nz,interval=[0.,H])\n",
    "domain = de.Domain([z],grid_dtype='float')\n"
   ]
  },
  {
   "cell_type": "code",
   "execution_count": 81,
   "metadata": {},
   "outputs": [],
   "source": [
    "# Create the problem\n",
    "problem = de.IVP(domain, variables=['c','F'])\n",
    "problem.parameters['ws'] = ws\n",
    "problem.parameters['E'] = E\n",
    "\n",
    "if uniform_diffusion:\n",
    "    problem.parameters['K'] = K_0\n",
    "else:\n",
    "    # Add vertically varying diffusion\n",
    "    ncc = domain.new_field(name = 'K')\n",
    "    ncc['g'] = (H-z)*K_0\n",
    "    problem.parameters['K'] = ncc\n",
    "\n",
    "problem.add_equation('dt(c) + ws * dz(c) - dz(F) = 0')\n",
    "problem.add_equation('F - K * dz(c) = 0')\n",
    "\n",
    "# Add the time varying boundary conditions\n",
    "problem.add_bc('left(F) = E*abs(sin(t))')\n",
    "problem.add_bc('right(F) = 0')"
   ]
  },
  {
   "cell_type": "code",
   "execution_count": 82,
   "metadata": {},
   "outputs": [
    {
     "name": "stdout",
     "output_type": "stream",
     "text": [
      "2019-11-06 12:14:21,146 pencil 0/1 INFO :: Building pencil matrix 1/1 (~100%) Elapsed: 0s, Remaining: 0s, Rate: 4.8e+01/s\n",
      "2019-11-06 12:14:21,269 __main__ 0/1 INFO :: Time step 20\n",
      "2019-11-06 12:14:21,378 __main__ 0/1 INFO :: Time step 40\n",
      "2019-11-06 12:14:21,461 __main__ 0/1 INFO :: Time step 60\n",
      "2019-11-06 12:14:21,557 __main__ 0/1 INFO :: Time step 80\n",
      "2019-11-06 12:14:21,647 __main__ 0/1 INFO :: Time step 100\n",
      "2019-11-06 12:14:21,750 __main__ 0/1 INFO :: Time step 120\n",
      "2019-11-06 12:14:21,846 __main__ 0/1 INFO :: Time step 140\n",
      "2019-11-06 12:14:21,960 __main__ 0/1 INFO :: Time step 160\n",
      "2019-11-06 12:14:22,082 __main__ 0/1 INFO :: Time step 180\n",
      "2019-11-06 12:14:22,234 __main__ 0/1 INFO :: Time step 200\n",
      "2019-11-06 12:14:22,397 __main__ 0/1 INFO :: Time step 220\n",
      "2019-11-06 12:14:22,528 __main__ 0/1 INFO :: Time step 240\n",
      "2019-11-06 12:14:22,659 __main__ 0/1 INFO :: Time step 260\n",
      "2019-11-06 12:14:22,799 __main__ 0/1 INFO :: Time step 280\n",
      "2019-11-06 12:14:22,944 __main__ 0/1 INFO :: Time step 300\n",
      "2019-11-06 12:14:23,071 __main__ 0/1 INFO :: Time step 320\n",
      "2019-11-06 12:14:23,194 __main__ 0/1 INFO :: Time step 340\n",
      "2019-11-06 12:14:23,289 __main__ 0/1 INFO :: Time step 360\n",
      "2019-11-06 12:14:23,392 __main__ 0/1 INFO :: Time step 380\n",
      "2019-11-06 12:14:23,482 __main__ 0/1 INFO :: Time step 400\n",
      "2019-11-06 12:14:23,566 __main__ 0/1 INFO :: Time step 420\n",
      "2019-11-06 12:14:23,682 __main__ 0/1 INFO :: Time step 440\n",
      "2019-11-06 12:14:23,833 __main__ 0/1 INFO :: Time step 460\n",
      "2019-11-06 12:14:23,968 __main__ 0/1 INFO :: Time step 480\n",
      "2019-11-06 12:14:24,115 __main__ 0/1 INFO :: Time step 500\n",
      "2019-11-06 12:14:24,223 __main__ 0/1 INFO :: Time step 520\n",
      "2019-11-06 12:14:24,346 __main__ 0/1 INFO :: Time step 540\n",
      "2019-11-06 12:14:24,496 __main__ 0/1 INFO :: Time step 560\n",
      "2019-11-06 12:14:24,637 __main__ 0/1 INFO :: Time step 580\n",
      "2019-11-06 12:14:24,767 __main__ 0/1 INFO :: Time step 600\n",
      "2019-11-06 12:14:24,896 __main__ 0/1 INFO :: Time step 620\n",
      "2019-11-06 12:14:24,999 __main__ 0/1 INFO :: Time step 640\n",
      "2019-11-06 12:14:25,080 __main__ 0/1 INFO :: Time step 660\n",
      "2019-11-06 12:14:25,186 __main__ 0/1 INFO :: Time step 680\n",
      "2019-11-06 12:14:25,274 __main__ 0/1 INFO :: Time step 700\n",
      "2019-11-06 12:14:25,375 __main__ 0/1 INFO :: Time step 720\n",
      "2019-11-06 12:14:25,514 __main__ 0/1 INFO :: Time step 740\n",
      "2019-11-06 12:14:25,667 __main__ 0/1 INFO :: Time step 760\n",
      "2019-11-06 12:14:25,806 __main__ 0/1 INFO :: Time step 780\n",
      "2019-11-06 12:14:25,920 __main__ 0/1 INFO :: Time step 800\n",
      "2019-11-06 12:14:26,040 __main__ 0/1 INFO :: Time step 820\n",
      "2019-11-06 12:14:26,116 __main__ 0/1 INFO :: Time step 840\n",
      "2019-11-06 12:14:26,231 __main__ 0/1 INFO :: Time step 860\n",
      "2019-11-06 12:14:26,342 __main__ 0/1 INFO :: Time step 880\n",
      "2019-11-06 12:14:26,436 __main__ 0/1 INFO :: Time step 900\n",
      "2019-11-06 12:14:26,541 __main__ 0/1 INFO :: Time step 920\n",
      "2019-11-06 12:14:26,634 __main__ 0/1 INFO :: Time step 940\n",
      "2019-11-06 12:14:26,740 __main__ 0/1 INFO :: Time step 960\n",
      "2019-11-06 12:14:26,826 __main__ 0/1 INFO :: Time step 980\n",
      "2019-11-06 12:14:26,922 __main__ 0/1 INFO :: Time step 1000\n",
      "2019-11-06 12:14:27,010 __main__ 0/1 INFO :: Time step 1020\n",
      "2019-11-06 12:14:27,091 __main__ 0/1 INFO :: Time step 1040\n",
      "2019-11-06 12:14:27,205 __main__ 0/1 INFO :: Time step 1060\n",
      "2019-11-06 12:14:27,307 __main__ 0/1 INFO :: Time step 1080\n",
      "2019-11-06 12:14:27,397 __main__ 0/1 INFO :: Time step 1100\n",
      "2019-11-06 12:14:27,480 __main__ 0/1 INFO :: Time step 1120\n",
      "2019-11-06 12:14:27,567 __main__ 0/1 INFO :: Time step 1140\n",
      "2019-11-06 12:14:27,680 __main__ 0/1 INFO :: Time step 1160\n",
      "2019-11-06 12:14:27,770 __main__ 0/1 INFO :: Time step 1180\n",
      "2019-11-06 12:14:27,871 __main__ 0/1 INFO :: Time step 1200\n",
      "2019-11-06 12:14:27,961 __main__ 0/1 INFO :: Time step 1220\n",
      "2019-11-06 12:14:28,046 __main__ 0/1 INFO :: Time step 1240\n",
      "2019-11-06 12:14:28,148 __main__ 0/1 INFO :: Time step 1260\n",
      "2019-11-06 12:14:28,240 __main__ 0/1 INFO :: Time step 1280\n",
      "2019-11-06 12:14:28,328 __main__ 0/1 INFO :: Time step 1300\n",
      "2019-11-06 12:14:28,432 __main__ 0/1 INFO :: Time step 1320\n",
      "2019-11-06 12:14:28,520 __main__ 0/1 INFO :: Time step 1340\n",
      "2019-11-06 12:14:28,621 __main__ 0/1 INFO :: Time step 1360\n",
      "2019-11-06 12:14:28,711 __main__ 0/1 INFO :: Time step 1380\n",
      "2019-11-06 12:14:28,802 __main__ 0/1 INFO :: Time step 1400\n",
      "2019-11-06 12:14:28,895 __main__ 0/1 INFO :: Time step 1420\n",
      "2019-11-06 12:14:28,988 __main__ 0/1 INFO :: Time step 1440\n",
      "2019-11-06 12:14:29,078 __main__ 0/1 INFO :: Time step 1460\n",
      "2019-11-06 12:14:29,191 __main__ 0/1 INFO :: Time step 1480\n",
      "2019-11-06 12:14:29,342 __main__ 0/1 INFO :: Time step 1500\n",
      "2019-11-06 12:14:29,495 __main__ 0/1 INFO :: Time step 1520\n",
      "2019-11-06 12:14:29,637 __main__ 0/1 INFO :: Time step 1540\n",
      "2019-11-06 12:14:29,768 __main__ 0/1 INFO :: Time step 1560\n",
      "2019-11-06 12:14:29,900 __main__ 0/1 INFO :: Time step 1580\n",
      "2019-11-06 12:14:29,998 __main__ 0/1 INFO :: Time step 1600\n",
      "2019-11-06 12:14:30,096 __main__ 0/1 INFO :: Time step 1620\n",
      "2019-11-06 12:14:30,216 __main__ 0/1 INFO :: Time step 1640\n",
      "2019-11-06 12:14:30,379 __main__ 0/1 INFO :: Time step 1660\n",
      "2019-11-06 12:14:30,534 __main__ 0/1 INFO :: Time step 1680\n",
      "2019-11-06 12:14:30,658 __main__ 0/1 INFO :: Time step 1700\n",
      "2019-11-06 12:14:30,812 __main__ 0/1 INFO :: Time step 1720\n",
      "2019-11-06 12:14:30,936 __main__ 0/1 INFO :: Time step 1740\n",
      "2019-11-06 12:14:31,078 __main__ 0/1 INFO :: Time step 1760\n",
      "2019-11-06 12:14:31,182 __main__ 0/1 INFO :: Time step 1780\n",
      "2019-11-06 12:14:31,277 __main__ 0/1 INFO :: Time step 1800\n",
      "2019-11-06 12:14:31,386 __main__ 0/1 INFO :: Time step 1820\n",
      "2019-11-06 12:14:31,479 __main__ 0/1 INFO :: Time step 1840\n",
      "2019-11-06 12:14:31,581 __main__ 0/1 INFO :: Time step 1860\n",
      "2019-11-06 12:14:31,684 __main__ 0/1 INFO :: Time step 1880\n",
      "2019-11-06 12:14:31,716 solvers 0/1 INFO :: Simulation stop time reached.\n",
      "2019-11-06 12:14:31,723 __main__ 0/1 INFO :: Total time: 10.572451\n",
      "2019-11-06 12:14:31,724 __main__ 0/1 INFO :: Iterations: 1885\n",
      "2019-11-06 12:14:31,728 __main__ 0/1 INFO :: Average timestep: 0.010000\n"
     ]
    }
   ],
   "source": [
    "solver = problem.build_solver(de.timesteppers.RK443)\n",
    "\n",
    "solver.stop_sim_time = 6*np.pi\n",
    "solver.stop_wall_time = 1000.\n",
    "solver.stop_iteration = np.inf\n",
    "dt = 0.01\n",
    "\n",
    "# Store data for final plot\n",
    "# Initial conditions\n",
    "z = domain.grid(0)\n",
    "c = solver.state['c']\n",
    "\n",
    "c.set_scales(1, keep_data=True)\n",
    "c_list = [np.copy(c['g'])]\n",
    "t_list = [solver.sim_time]\n",
    "\n",
    "start_time = time.time()\n",
    "while solver.ok:\n",
    "    solver.step(dt)\n",
    "    if solver.iteration % 20 == 0:\n",
    "        logger.info(\"Time step {}\".format(solver.iteration))\n",
    "        c.set_scales(1, keep_data=True)\n",
    "        c_list.append(np.copy(c['g']))\n",
    "        t_list.append(solver.sim_time)\n",
    "end_time = time.time()\n",
    "\n",
    "# Print statistics\n",
    "logger.info('Total time: %f' %(end_time-start_time))\n",
    "logger.info('Iterations: %i' %solver.iteration)\n",
    "logger.info('Average timestep: %f' %(solver.sim_time/solver.iteration))"
   ]
  },
  {
   "cell_type": "code",
   "execution_count": 83,
   "metadata": {},
   "outputs": [],
   "source": [
    "c_array = np.array(c_list)\n",
    "t_array = np.array(t_list)\n",
    "zmesh, tmesh = quad_mesh(x=z, y=t_array)"
   ]
  },
  {
   "cell_type": "code",
   "execution_count": 84,
   "metadata": {},
   "outputs": [
    {
     "data": {
      "image/png": "[encoded data removed]",
      "text/plain": [
       "<Figure size 432x288 with 2 Axes>"
      ]
     },
     "metadata": {
      "needs_background": "light"
     },
     "output_type": "display_data"
    }
   ],
   "source": [
    "plt.figure()\n",
    "plt.pcolormesh(tmesh.T, zmesh.T, c_array.T, cmap='RdBu_r')\n",
    "plt.axis(pad_limits(tmesh, zmesh))\n",
    "plt.colorbar()\n",
    "plt.ylabel('z')\n",
    "plt.xlabel('t')\n",
    "\n",
    "plt.show()"
   ]
  },
  {
   "cell_type": "code",
   "execution_count": 48,
   "metadata": {},
   "outputs": [
    {
     "data": {
      "text/plain": [
       "((63, 64), (64,), 63)"
      ]
     },
     "execution_count": 48,
     "metadata": {},
     "output_type": "execute_result"
    }
   ],
   "source": [
    "c_array.shape, z.shape, len(t_list)"
   ]
  },
  {
   "cell_type": "code",
   "execution_count": 68,
   "metadata": {},
   "outputs": [
    {
     "data": {
      "text/plain": [
       "[<matplotlib.lines.Line2D at 0x7f55e9120a58>]"
      ]
     },
     "execution_count": 68,
     "metadata": {},
     "output_type": "execute_result"
    },
    {
     "data": {
      "image/png": "[encoded data removed]",
      "text/plain": [
       "<Figure size 432x288 with 1 Axes>"
      ]
     },
     "metadata": {
      "needs_background": "light"
     },
     "output_type": "display_data"
    }
   ],
   "source": [
    "plt.figure()\n",
    "plt.plot(c_array[0,:],z)\n",
    "plt.plot(c_array[40,:],z)\n",
    "plt.plot(c_array[45,:],z)\n",
    "plt.plot(c_array[50,:],z)\n",
    "plt.plot(c_array[-1,:],z)"
   ]
  },
  {
   "cell_type": "code",
   "execution_count": null,
   "metadata": {},
   "outputs": [],
   "source": []
  }
 ],
 "metadata": {
  "kernelspec": {
   "display_name": "Python 3",
   "language": "python",
   "name": "python3"
  },
  "language_info": {
   "codemirror_mode": {
    "name": "ipython",
    "version": 3
   },
   "file_extension": ".py",
   "mimetype": "text/x-python",
   "name": "python",
   "nbconvert_exporter": "python",
   "pygments_lexer": "ipython3",
   "version": "3.6.4"
  }
 },
 "nbformat": 4,
 "nbformat_minor": 2
}
